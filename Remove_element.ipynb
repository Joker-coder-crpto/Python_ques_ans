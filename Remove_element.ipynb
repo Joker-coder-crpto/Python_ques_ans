{
 "cells": [
  {
   "cell_type": "markdown",
   "id": "5bd5fa46",
   "metadata": {},
   "source": [
    "Given an integer array nums and an integer val, remove all occurrences of val in nums in-place. \n",
    "The order of the elements may be changed. Then return the number of elements in nums which are not equal to val.\n",
    "\n",
    "Consider the number of elements in nums which are not equal to val be k, to get accepted, \n",
    "you need to do the following things:\n",
    "\n",
    "Change the array nums such that the first k elements of nums contain the elements which are not equal to val. \n",
    "The remaining elements of nums are not important as well as the size of nums.\n",
    "Return k.\n",
    "\n",
    "Example 1:\n",
    "\n",
    "Input: nums = [3,2,2,3], val = 3\n",
    "Output: 2, nums = [2,2,_,_]\n",
    "\n",
    "Explanation: Your function should return k = 2, with the first two elements of nums being 2.\n",
    "It does not matter what you leave beyond the returned k (hence they are underscores).\n",
    "Example 2:\n",
    "\n",
    "Input: nums = [0,1,2,2,3,0,4,2], val = 2\n",
    "Output: 5, nums = [0,1,4,0,3,_,_,_]\n",
    "Explanation: Your function should return k = 5, with the first five elements of nums containing 0, 0, 1, 3, and 4.\n",
    "Note that the five elements can be returned in any order.\n",
    "It does not matter what you leave beyond the returned k (hence they are underscores)."
   ]
  },
  {
   "cell_type": "code",
   "execution_count": 1,
   "id": "909e33cc",
   "metadata": {},
   "outputs": [],
   "source": [
    "nums = [2,2,3,3]\n",
    "val = 3"
   ]
  },
  {
   "cell_type": "code",
   "execution_count": 2,
   "id": "407f8b46",
   "metadata": {},
   "outputs": [],
   "source": [
    "def removeElement(nums,val):\n",
    "    i = 0\n",
    "    j = len(nums)-1\n",
    "    \n",
    "  \n",
    "    while i < j:\n",
    "        \n",
    "        if nums[j] == val:\n",
    "            j -= 1\n",
    "           \n",
    "        elif nums[i] == val:\n",
    "            \n",
    "            nums[i],nums[j] = nums[j],nums[i]\n",
    "            print(nums[i],nums[j])\n",
    "            print(nums[j],nums[i])\n",
    "            i+=1\n",
    "            \n",
    "            nums[i]\n",
    "\n",
    "    \n",
    "    #for i in nums:\n",
    "        #if i == val:\n",
    "            #nums.remove('_')\n",
    "    #for elem in nums:\n",
    "        #if elem == val:\n",
    "            #count += 1\n",
    "    \n",
    "   # k = len(nums)-count\n",
    "    #print(nums)\n",
    "    return nums"
   ]
  },
  {
   "cell_type": "code",
   "execution_count": null,
   "id": "4368b4d7",
   "metadata": {
    "scrolled": true
   },
   "outputs": [],
   "source": [
    "removeElement(nums,val)"
   ]
  },
  {
   "cell_type": "code",
   "execution_count": null,
   "id": "7b79f9f8",
   "metadata": {},
   "outputs": [],
   "source": [
    "nums[i],nums[j] = nums[j],nums[i]"
   ]
  },
  {
   "cell_type": "code",
   "execution_count": null,
   "id": "6c07c033",
   "metadata": {},
   "outputs": [],
   "source": []
  }
 ],
 "metadata": {
  "kernelspec": {
   "display_name": "Python 3 (ipykernel)",
   "language": "python",
   "name": "python3"
  },
  "language_info": {
   "codemirror_mode": {
    "name": "ipython",
    "version": 3
   },
   "file_extension": ".py",
   "mimetype": "text/x-python",
   "name": "python",
   "nbconvert_exporter": "python",
   "pygments_lexer": "ipython3",
   "version": "3.11.5"
  }
 },
 "nbformat": 4,
 "nbformat_minor": 5
}
