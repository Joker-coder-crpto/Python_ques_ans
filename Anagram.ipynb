{
 "cells": [
  {
   "cell_type": "code",
   "execution_count": 54,
   "id": "0ae8cbe2",
   "metadata": {},
   "outputs": [],
   "source": [
    "letter1 = 'silent'\n",
    "letter2 = 'listen'"
   ]
  },
  {
   "cell_type": "code",
   "execution_count": 55,
   "id": "abeba3cc",
   "metadata": {},
   "outputs": [],
   "source": [
    "def if_anagram(letter1,letter2):\n",
    "    \n",
    "    if len(letter1) != len(letter2):\n",
    "        return 'not anagram'\n",
    "    else:\n",
    "        for i in letter1:\n",
    "            if i not in letter2:\n",
    "                return 'not anagram'\n",
    "    return 'anagram'"
   ]
  },
  {
   "cell_type": "code",
   "execution_count": 66,
   "id": "8e4dbe8f",
   "metadata": {},
   "outputs": [
    {
     "data": {
      "text/plain": [
       "'anagram'"
      ]
     },
     "execution_count": 66,
     "metadata": {},
     "output_type": "execute_result"
    }
   ],
   "source": [
    "if_anagram(letter1,letter2)"
   ]
  },
  {
   "cell_type": "code",
   "execution_count": 75,
   "id": "3fc4d90c",
   "metadata": {},
   "outputs": [],
   "source": [
    "def anagram(letter1,letter2):\n",
    "    \n",
    "    letter1 = letter1.lower()\n",
    "    letter2 = letter2.lower()\n",
    "    letter1_list = list(sorted(letter1))\n",
    "    letter2_list = list(sorted(letter2))\n",
    "    \n",
    "    if letter1_list == letter2_list:\n",
    "        return 'anagram'\n",
    "    else:\n",
    "        return 'not anagram'"
   ]
  },
  {
   "cell_type": "code",
   "execution_count": 76,
   "id": "7e55c457",
   "metadata": {},
   "outputs": [
    {
     "data": {
      "text/plain": [
       "'anagram'"
      ]
     },
     "execution_count": 76,
     "metadata": {},
     "output_type": "execute_result"
    }
   ],
   "source": [
    "anagram(letter1,letter2)"
   ]
  }
 ],
 "metadata": {
  "kernelspec": {
   "display_name": "Python 3 (ipykernel)",
   "language": "python",
   "name": "python3"
  },
  "language_info": {
   "codemirror_mode": {
    "name": "ipython",
    "version": 3
   },
   "file_extension": ".py",
   "mimetype": "text/x-python",
   "name": "python",
   "nbconvert_exporter": "python",
   "pygments_lexer": "ipython3",
   "version": "3.11.5"
  }
 },
 "nbformat": 4,
 "nbformat_minor": 5
}
