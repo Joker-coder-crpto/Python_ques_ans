{
 "cells": [
  {
   "cell_type": "code",
   "execution_count": null,
   "id": "f0dafadd",
   "metadata": {},
   "outputs": [],
   "source": []
  },
  {
   "cell_type": "code",
   "execution_count": 87,
   "id": "07765cab",
   "metadata": {},
   "outputs": [],
   "source": [
    "string =  \"()[}\"\n",
    "\n",
    "problem statement :  ()"
   ]
  },
  {
   "cell_type": "code",
   "execution_count": 57,
   "id": "8bb87635",
   "metadata": {},
   "outputs": [],
   "source": [
    "def valid_PARANt():\n",
    "    \n",
    "    compare_value = []\n",
    "    compare_pairs = []\n",
    "    \n",
    "    pairs = {\n",
    "        \n",
    "        \")\":\"(\",\n",
    "        \"]\":\"[\",\n",
    "        \"}\":\"{\"\n",
    "        \n",
    "    }\n",
    "    \n",
    "    for i in string:\n",
    "        if i in pairs:\n",
    "            compare_key.append(i)\n",
    "            compare_value.append(pairs[i])\n",
    "    \n",
    "            print()\n",
    "        "
   ]
  },
  {
   "cell_type": "code",
   "execution_count": 53,
   "id": "2d4a980f",
   "metadata": {},
   "outputs": [
    {
     "data": {
      "text/plain": [
       "[]"
      ]
     },
     "execution_count": 53,
     "metadata": {},
     "output_type": "execute_result"
    }
   ],
   "source": [
    "compare_value"
   ]
  },
  {
   "cell_type": "code",
   "execution_count": 94,
   "id": "1c3a9fbf",
   "metadata": {
    "scrolled": false
   },
   "outputs": [
    {
     "ename": "SyntaxError",
     "evalue": "invalid syntax (2476929645.py, line 27)",
     "output_type": "error",
     "traceback": [
      "\u001b[1;36m  Cell \u001b[1;32mIn[94], line 27\u001b[1;36m\u001b[0m\n\u001b[1;33m    if key,value in compare_dict:\u001b[0m\n\u001b[1;37m          ^\u001b[0m\n\u001b[1;31mSyntaxError\u001b[0m\u001b[1;31m:\u001b[0m invalid syntax\n"
     ]
    }
   ],
   "source": [
    "compare_value = []\n",
    "compare_key = []\n",
    "compare_dict = {}\n",
    "\n",
    "string =  \"([})\"\n",
    "pairs = {\n",
    "    \n",
    "    \")\":\"(\",\n",
    "    \"]\":\"[\",\n",
    "    \"}\":\"{\"\n",
    "}\n",
    "\n",
    "for i in string:\n",
    "    if i in pairs:\n",
    "        compare_key.append(i)\n",
    "    else:\n",
    "        compare_value.append(i)\n",
    "print(compare_key)\n",
    "print(compare_value)\n",
    "\n",
    "for i in range(len(compare_key)):\n",
    "    compare_dict[compare_key[i]] = compare_value[i]\n",
    "    \n",
    "print(compare_dict)\n",
    "\n",
    "for key,value in pairs:\n",
    "    if key,value in compare_dict:\n",
    "        compare_dict.pop(i)\n",
    "        \n",
    "print(compare_dict)"
   ]
  },
  {
   "cell_type": "code",
   "execution_count": 1,
   "id": "d84c28af",
   "metadata": {},
   "outputs": [],
   "source": [
    "string =  \"([})\"\n",
    "pairs = {\n",
    "    \n",
    "    \")\":\"(\",\n",
    "    \"]\":\"[\",\n",
    "    \"}\":\"{\"\n",
    "}\n"
   ]
  },
  {
   "cell_type": "code",
   "execution_count": 20,
   "id": "6e2ca129",
   "metadata": {},
   "outputs": [
    {
     "name": "stdout",
     "output_type": "stream",
     "text": [
      "['(', '[', '{']\n"
     ]
    }
   ],
   "source": [
    "string =  \"([})\"\n",
    "stack = []\n",
    "for i in pairs:\n",
    "    stack.append(pairs[i])\n",
    "#print(stack)\n",
    "\n",
    "j = len(string)-1\n",
    "for j in range(len(string)):\n",
    "    if string[j] == pairs[i]:\n",
    "        stack.pop(j)\n",
    "    j-=1\n",
    "print(stack)"
   ]
  },
  {
   "cell_type": "code",
   "execution_count": 15,
   "id": "4c2470ee",
   "metadata": {},
   "outputs": [],
   "source": [
    "####  wat i was made for ? "
   ]
  },
  {
   "cell_type": "code",
   "execution_count": 37,
   "id": "bebdd30c",
   "metadata": {},
   "outputs": [],
   "source": [
    "stringie = \"(){}[]\" "
   ]
  },
  {
   "cell_type": "code",
   "execution_count": 38,
   "id": "fec70785",
   "metadata": {},
   "outputs": [],
   "source": [
    "stackie = []"
   ]
  },
  {
   "cell_type": "code",
   "execution_count": 39,
   "id": "33b970e8",
   "metadata": {},
   "outputs": [],
   "source": [
    "ryt_lft = {\n",
    "    \")\":\"(\",\n",
    "    \"]\":\"[\",\n",
    "    \"}\":\"{\"\n",
    "}"
   ]
  },
  {
   "cell_type": "code",
   "execution_count": 40,
   "id": "398be659",
   "metadata": {},
   "outputs": [],
   "source": [
    "def valid_or_not(stringie):\n",
    "    \n",
    "    for i in stringie:\n",
    "        while i == 0:\n",
    "            if stringie[i] != ryt_lft.values():\n",
    "                return \"Invalid\"\n",
    "        if i is ryt_lft.values():\n",
    "            stackie.append(i)\n",
    "        if i is ryt_lft.keys():\n",
    "            if stackie[-1]!=ryt_lft[i] and stackie != []: \n",
    "                print(\"brr no match\")\n",
    "            else:\n",
    "                stackie.pop(i)\n",
    "    if stackie == []:\n",
    "        return 'Valid'\n",
    "    else:\n",
    "        return 'invalid'"
   ]
  },
  {
   "cell_type": "code",
   "execution_count": 41,
   "id": "db2c01a8",
   "metadata": {},
   "outputs": [
    {
     "data": {
      "text/plain": [
       "'Valid'"
      ]
     },
     "execution_count": 41,
     "metadata": {},
     "output_type": "execute_result"
    }
   ],
   "source": [
    "valid_or_not(stringie)"
   ]
  },
  {
   "cell_type": "code",
   "execution_count": null,
   "id": "d248bbd9",
   "metadata": {},
   "outputs": [],
   "source": []
  }
 ],
 "metadata": {
  "kernelspec": {
   "display_name": "Python 3 (ipykernel)",
   "language": "python",
   "name": "python3"
  },
  "language_info": {
   "codemirror_mode": {
    "name": "ipython",
    "version": 3
   },
   "file_extension": ".py",
   "mimetype": "text/x-python",
   "name": "python",
   "nbconvert_exporter": "python",
   "pygments_lexer": "ipython3",
   "version": "3.11.5"
  }
 },
 "nbformat": 4,
 "nbformat_minor": 5
}
