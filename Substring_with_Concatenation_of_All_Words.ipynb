{
 "cells": [
  {
   "cell_type": "code",
   "execution_count": null,
   "id": "5f274315",
   "metadata": {},
   "outputs": [],
   "source": [
    "#Substring with Concatenation of All Words"
   ]
  },
  {
   "cell_type": "code",
   "execution_count": null,
   "id": "e7cc1c70",
   "metadata": {},
   "outputs": [],
   "source": [
    "You are given a string s and an array of strings words. All the strings of words are of the same length.\n",
    "\n",
    "A concatenated substring in s is a substring that contains all the strings of any permutation of words concatenated.\n",
    "\n",
    "For example, if words = [\"ab\",\"cd\",\"ef\"], then \"abcdef\", \"abefcd\", \"cdabef\", \"cdefab\", \"efabcd\", and \"efcdab\" are \n",
    "all concatenated strings. \"acdbef\" is not a concatenated substring \n",
    "because it is not the concatenation of any permutation of words.\n",
    "Return the starting indices of all the concatenated substrings in s. You can return the answer in any order."
   ]
  },
  {
   "cell_type": "code",
   "execution_count": null,
   "id": "eb3b1daf",
   "metadata": {},
   "outputs": [],
   "source": [
    "Example 1:\n",
    "\n",
    "Input: s = \"barfoothefoobarman\", words = [\"foo\",\"bar\"]\n",
    "Output: [0,9]\n",
    "Explanation: Since words.length == 2 and words[i].length == 3, the concatenated substring has to be of length 6.\n",
    "The substring starting at 0 is \"barfoo\". It is the concatenation of [\"bar\",\"foo\"] which is a permutation of words.\n",
    "The substring starting at 9 is \"foobar\". It is the concatenation of [\"foo\",\"bar\"] which is a permutation of words.\n",
    "The output order does not matter. Returning [9,0] is fine too.\n",
    "Example 2:\n",
    "\n",
    "Input: s = \"wordgoodgoodgoodbestword\", words = [\"word\",\"good\",\"best\",\"word\"]\n",
    "Output: []\n",
    "Explanation: Since words.length == 4 and words[i].length == 4, the concatenated substring has to be of length 16.\n",
    "There is no substring of length 16 in s that is equal to the concatenation of any permutation of words.\n",
    "We return an empty array."
   ]
  },
  {
   "cell_type": "code",
   "execution_count": 14,
   "id": "23d8fc37",
   "metadata": {},
   "outputs": [],
   "source": [
    "s = \"barfoothefoobarman\"\n",
    "words = [\"foo\",\"bar\"]"
   ]
  },
  {
   "cell_type": "code",
   "execution_count": null,
   "id": "71356b30",
   "metadata": {
    "scrolled": false
   },
   "outputs": [],
   "source": [
    "for i in range(len(words)):\n",
    "    for j in range(len(words)):\n",
    "        "
   ]
  },
  {
   "cell_type": "code",
   "execution_count": 16,
   "id": "0283b122",
   "metadata": {},
   "outputs": [],
   "source": [
    "def substrin_sumthin(s,words):\n",
    "    \n",
    "    for i in range(len(words)):\n",
    "        element_len = len(words[i])\n",
    "        \n",
    "    word_length = len(words)  \n",
    "    string_need_to_concat = word_length * element_len\n",
    "     \n",
    "    test_concat_list = []\n",
    "    for j in range(len(words)):\n",
    "        for k in range(len(words)):\n",
    "       \n",
    "            if j == k:\n",
    "                continue\n",
    "            else:\n",
    "                test_concat = words[j] + words[k]\n",
    "                test_concat_list.append(test_concat)\n",
    "          \n",
    "    \n",
    "    return test_concat_list "
   ]
  },
  {
   "cell_type": "code",
   "execution_count": null,
   "id": "1bcdc383",
   "metadata": {},
   "outputs": [],
   "source": [
    "# concat all the elements and create different combination of words "
   ]
  },
  {
   "cell_type": "code",
   "execution_count": 17,
   "id": "3add78e6",
   "metadata": {},
   "outputs": [],
   "source": [
    "list1 = ['a','b','c','d']"
   ]
  },
  {
   "cell_type": "code",
   "execution_count": null,
   "id": "86a43475",
   "metadata": {},
   "outputs": [],
   "source": [
    "for i in range(len(list1)):\n",
    "    for j in range(len(list1)):\n",
    "        \n",
    "        if i == j:\n",
    "            continue\n",
    "        else:\n",
    "            new = ''\n",
    "            new = new + list1[i] + list1[j]"
   ]
  }
 ],
 "metadata": {
  "kernelspec": {
   "display_name": "Python 3 (ipykernel)",
   "language": "python",
   "name": "python3"
  },
  "language_info": {
   "codemirror_mode": {
    "name": "ipython",
    "version": 3
   },
   "file_extension": ".py",
   "mimetype": "text/x-python",
   "name": "python",
   "nbconvert_exporter": "python",
   "pygments_lexer": "ipython3",
   "version": "3.11.5"
  }
 },
 "nbformat": 4,
 "nbformat_minor": 5
}
